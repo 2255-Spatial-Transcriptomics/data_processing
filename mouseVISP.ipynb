{
 "cells": [
  {
   "cell_type": "code",
   "execution_count": 3,
   "metadata": {},
   "outputs": [
    {
     "name": "stdout",
     "output_type": "stream",
     "text": [
      "\u001b[1m\u001b[96mDirectory created\u001b[0m: datasets/mouse_VISp_gene_expression_matrices_2018-06-14/csv\n"
     ]
    },
    {
     "name": "stderr",
     "output_type": "stream",
     "text": [
      "INFO:root:Extracted GTF attributes: ['gene_id', 'gene_symbol', 'transcript_id']\n"
     ]
    },
    {
     "ename": "KeyError",
     "evalue": "\"['gene_version', 'gene_type', 'gene_name', 'level', 'hgnc_id', 'tag', 'havana_gene'] not in index\"",
     "output_type": "error",
     "traceback": [
      "\u001b[0;31m---------------------------------------------------------------------------\u001b[0m",
      "\u001b[0;31mKeyError\u001b[0m                                  Traceback (most recent call last)",
      "Cell \u001b[0;32mIn [3], line 6\u001b[0m\n\u001b[1;32m      4\u001b[0m \u001b[38;5;28;01mimport\u001b[39;00m \u001b[38;5;21;01manngtf\u001b[39;00m\n\u001b[1;32m      5\u001b[0m gtf_filepath \u001b[38;5;241m=\u001b[39m \u001b[38;5;124m'\u001b[39m\u001b[38;5;124mdatasets/mouse_VISp_gene_expression_matrices_2018-06-14/rsem_GRCm38.p3.gtf\u001b[39m\u001b[38;5;124m'\u001b[39m\n\u001b[0;32m----> 6\u001b[0m gtf \u001b[38;5;241m=\u001b[39m \u001b[43manngtf\u001b[49m\u001b[38;5;241;43m.\u001b[39;49m\u001b[43mparse\u001b[49m\u001b[43m(\u001b[49m\u001b[43mpath\u001b[49m\u001b[38;5;241;43m=\u001b[39;49m\u001b[43mgtf_filepath\u001b[49m\u001b[43m,\u001b[49m\u001b[43m \u001b[49m\u001b[43mgenes\u001b[49m\u001b[38;5;241;43m=\u001b[39;49m\u001b[38;5;28;43;01mFalse\u001b[39;49;00m\u001b[43m,\u001b[49m\u001b[43m \u001b[49m\u001b[43mforce\u001b[49m\u001b[38;5;241;43m=\u001b[39;49m\u001b[38;5;28;43;01mFalse\u001b[39;49;00m\u001b[43m,\u001b[49m\u001b[43m \u001b[49m\u001b[43mreturn_gtf\u001b[49m\u001b[38;5;241;43m=\u001b[39;49m\u001b[38;5;28;43;01mTrue\u001b[39;49;00m\u001b[43m)\u001b[49m\n",
      "File \u001b[0;32m~/opt/anaconda3/envs/spatial-transcriptomics/lib/python3.10/site-packages/anngtf/_parse/_parse_gtf_to_csv.py:117\u001b[0m, in \u001b[0;36m_parse_gtf_to_csv\u001b[0;34m(path, genes, force, return_gtf)\u001b[0m\n\u001b[1;32m    115\u001b[0m \u001b[39mif\u001b[39;00m \u001b[39mnot\u001b[39;00m os\u001b[39m.\u001b[39mpath\u001b[39m.\u001b[39mexists(gtf_\u001b[39m.\u001b[39m_gtf_csv_path) \u001b[39mor\u001b[39;00m \u001b[39mnot\u001b[39;00m os\u001b[39m.\u001b[39mpath\u001b[39m.\u001b[39mexists(gtf_\u001b[39m.\u001b[39m_gene_gtf_csv_path) \u001b[39mor\u001b[39;00m force:\n\u001b[1;32m    116\u001b[0m     gtf_\u001b[39m.\u001b[39mparse_gtf()\n\u001b[0;32m--> 117\u001b[0m     gtf_\u001b[39m.\u001b[39;49mparse_genes()\n\u001b[1;32m    118\u001b[0m     gtf_\u001b[39m.\u001b[39mremember()\n\u001b[1;32m    120\u001b[0m \u001b[39mif\u001b[39;00m return_gtf:\n",
      "File \u001b[0;32m~/opt/anaconda3/envs/spatial-transcriptomics/lib/python3.10/site-packages/anngtf/_parse/_parse_gtf_to_csv.py:87\u001b[0m, in \u001b[0;36m_FractionatedGTF.parse_genes\u001b[0;34m(self, write_csv)\u001b[0m\n\u001b[1;32m     82\u001b[0m \u001b[39mdef\u001b[39;00m \u001b[39mparse_genes\u001b[39m(\u001b[39mself\u001b[39m, write_csv\u001b[39m=\u001b[39m\u001b[39mTrue\u001b[39;00m):\n\u001b[1;32m     84\u001b[0m     \u001b[39m\"\"\"\"\"\"\u001b[39;00m\n\u001b[0;32m---> 87\u001b[0m     \u001b[39mself\u001b[39m\u001b[39m.\u001b[39m_gene_gtf \u001b[39m=\u001b[39m \u001b[39mself\u001b[39;49m\u001b[39m.\u001b[39;49m_gtf\u001b[39m.\u001b[39;49mloc[\u001b[39mself\u001b[39;49m\u001b[39m.\u001b[39;49m_gtf[\u001b[39m\"\u001b[39;49m\u001b[39mfeature\u001b[39;49m\u001b[39m\"\u001b[39;49m] \u001b[39m==\u001b[39;49m \u001b[39m\"\u001b[39;49m\u001b[39mgene\u001b[39;49m\u001b[39m\"\u001b[39;49m][\n\u001b[1;32m     88\u001b[0m         \u001b[39mself\u001b[39;49m\u001b[39m.\u001b[39;49m_gene_columns_to_keep\n\u001b[1;32m     89\u001b[0m     ]\n\u001b[1;32m     91\u001b[0m     \u001b[39mif\u001b[39;00m write_csv:\n\u001b[1;32m     92\u001b[0m         \u001b[39mself\u001b[39m\u001b[39m.\u001b[39m_gene_gtf\u001b[39m.\u001b[39mto_csv(\u001b[39mself\u001b[39m\u001b[39m.\u001b[39m_gene_gtf_csv_path)\n",
      "File \u001b[0;32m~/opt/anaconda3/envs/spatial-transcriptomics/lib/python3.10/site-packages/pandas/core/frame.py:3810\u001b[0m, in \u001b[0;36mDataFrame.__getitem__\u001b[0;34m(self, key)\u001b[0m\n\u001b[1;32m   3808\u001b[0m     \u001b[39mif\u001b[39;00m is_iterator(key):\n\u001b[1;32m   3809\u001b[0m         key \u001b[39m=\u001b[39m \u001b[39mlist\u001b[39m(key)\n\u001b[0;32m-> 3810\u001b[0m     indexer \u001b[39m=\u001b[39m \u001b[39mself\u001b[39;49m\u001b[39m.\u001b[39;49mcolumns\u001b[39m.\u001b[39;49m_get_indexer_strict(key, \u001b[39m\"\u001b[39;49m\u001b[39mcolumns\u001b[39;49m\u001b[39m\"\u001b[39;49m)[\u001b[39m1\u001b[39m]\n\u001b[1;32m   3812\u001b[0m \u001b[39m# take() does not accept boolean indexers\u001b[39;00m\n\u001b[1;32m   3813\u001b[0m \u001b[39mif\u001b[39;00m \u001b[39mgetattr\u001b[39m(indexer, \u001b[39m\"\u001b[39m\u001b[39mdtype\u001b[39m\u001b[39m\"\u001b[39m, \u001b[39mNone\u001b[39;00m) \u001b[39m==\u001b[39m \u001b[39mbool\u001b[39m:\n",
      "File \u001b[0;32m~/opt/anaconda3/envs/spatial-transcriptomics/lib/python3.10/site-packages/pandas/core/indexes/base.py:6111\u001b[0m, in \u001b[0;36mIndex._get_indexer_strict\u001b[0;34m(self, key, axis_name)\u001b[0m\n\u001b[1;32m   6108\u001b[0m \u001b[39melse\u001b[39;00m:\n\u001b[1;32m   6109\u001b[0m     keyarr, indexer, new_indexer \u001b[39m=\u001b[39m \u001b[39mself\u001b[39m\u001b[39m.\u001b[39m_reindex_non_unique(keyarr)\n\u001b[0;32m-> 6111\u001b[0m \u001b[39mself\u001b[39;49m\u001b[39m.\u001b[39;49m_raise_if_missing(keyarr, indexer, axis_name)\n\u001b[1;32m   6113\u001b[0m keyarr \u001b[39m=\u001b[39m \u001b[39mself\u001b[39m\u001b[39m.\u001b[39mtake(indexer)\n\u001b[1;32m   6114\u001b[0m \u001b[39mif\u001b[39;00m \u001b[39misinstance\u001b[39m(key, Index):\n\u001b[1;32m   6115\u001b[0m     \u001b[39m# GH 42790 - Preserve name from an Index\u001b[39;00m\n",
      "File \u001b[0;32m~/opt/anaconda3/envs/spatial-transcriptomics/lib/python3.10/site-packages/pandas/core/indexes/base.py:6174\u001b[0m, in \u001b[0;36mIndex._raise_if_missing\u001b[0;34m(self, key, indexer, axis_name)\u001b[0m\n\u001b[1;32m   6171\u001b[0m     \u001b[39mraise\u001b[39;00m \u001b[39mKeyError\u001b[39;00m(\u001b[39mf\u001b[39m\u001b[39m\"\u001b[39m\u001b[39mNone of [\u001b[39m\u001b[39m{\u001b[39;00mkey\u001b[39m}\u001b[39;00m\u001b[39m] are in the [\u001b[39m\u001b[39m{\u001b[39;00maxis_name\u001b[39m}\u001b[39;00m\u001b[39m]\u001b[39m\u001b[39m\"\u001b[39m)\n\u001b[1;32m   6173\u001b[0m not_found \u001b[39m=\u001b[39m \u001b[39mlist\u001b[39m(ensure_index(key)[missing_mask\u001b[39m.\u001b[39mnonzero()[\u001b[39m0\u001b[39m]]\u001b[39m.\u001b[39munique())\n\u001b[0;32m-> 6174\u001b[0m \u001b[39mraise\u001b[39;00m \u001b[39mKeyError\u001b[39;00m(\u001b[39mf\u001b[39m\u001b[39m\"\u001b[39m\u001b[39m{\u001b[39;00mnot_found\u001b[39m}\u001b[39;00m\u001b[39m not in index\u001b[39m\u001b[39m\"\u001b[39m)\n",
      "\u001b[0;31mKeyError\u001b[0m: \"['gene_version', 'gene_type', 'gene_name', 'level', 'hgnc_id', 'tag', 'havana_gene'] not in index\""
     ]
    }
   ],
   "source": [
    "# testing out loading the mouse_VISp datasets from it's gtf file\n",
    "# ! pip install anngtf\n",
    "\n",
    "import anngtf\n",
    "gtf_filepath = 'datasets/mouse_VISp_gene_expression_matrices_2018-06-14/rsem_GRCm38.p3.gtf'\n",
    "gtf = anngtf.parse(path=gtf_filepath, genes=False, force=False, return_gtf=True)\n"
   ]
  },
  {
   "cell_type": "code",
   "execution_count": 4,
   "metadata": {},
   "outputs": [
    {
     "ename": "AssertionError",
     "evalue": "path (path to GTF) must be provided",
     "output_type": "error",
     "traceback": [
      "\u001b[0;31m---------------------------------------------------------------------------\u001b[0m",
      "\u001b[0;31mAssertionError\u001b[0m                            Traceback (most recent call last)",
      "Cell \u001b[0;32mIn [4], line 1\u001b[0m\n\u001b[0;32m----> 1\u001b[0m gtf \u001b[38;5;241m=\u001b[39m \u001b[43manngtf\u001b[49m\u001b[38;5;241;43m.\u001b[39;49m\u001b[43mload\u001b[49m\u001b[43m(\u001b[49m\u001b[43m)\u001b[49m\n",
      "File \u001b[0;32m~/opt/anaconda3/envs/spatial-transcriptomics/lib/python3.10/site-packages/anngtf/_parse/_load_gtf_csv.py:30\u001b[0m, in \u001b[0;36m_load_gtf_csv\u001b[0;34m(genes, path)\u001b[0m\n\u001b[1;32m     27\u001b[0m     \u001b[39mreturn\u001b[39;00m _read_gtf_path_file(GTF_csv_path, genes)\n\u001b[1;32m     29\u001b[0m \u001b[39melse\u001b[39;00m:\n\u001b[0;32m---> 30\u001b[0m     \u001b[39massert\u001b[39;00m path, \u001b[39m\"\u001b[39m\u001b[39mpath (path to GTF) must be provided\u001b[39m\u001b[39m\"\u001b[39m\n\u001b[1;32m     31\u001b[0m     \u001b[39mfrom\u001b[39;00m \u001b[39m.\u001b[39;00m\u001b[39m_parse_gtf_to_csv\u001b[39;00m \u001b[39mimport\u001b[39;00m _parse_gtf_to_csv\n\u001b[1;32m     32\u001b[0m     \u001b[39mreturn\u001b[39;00m _parse_gtf_to_csv(path, genes\u001b[39m=\u001b[39mgenes, force\u001b[39m=\u001b[39m\u001b[39mFalse\u001b[39;00m, return_gtf\u001b[39m=\u001b[39m\u001b[39mTrue\u001b[39;00m)\n",
      "\u001b[0;31mAssertionError\u001b[0m: path (path to GTF) must be provided"
     ]
    }
   ],
   "source": []
  },
  {
   "cell_type": "markdown",
   "metadata": {},
   "source": [
    "Not quite sure why this throws an error?"
   ]
  }
 ],
 "metadata": {
  "kernelspec": {
   "display_name": "Python 3.10.6 ('spatial-transcriptomics')",
   "language": "python",
   "name": "python3"
  },
  "language_info": {
   "codemirror_mode": {
    "name": "ipython",
    "version": 3
   },
   "file_extension": ".py",
   "mimetype": "text/x-python",
   "name": "python",
   "nbconvert_exporter": "python",
   "pygments_lexer": "ipython3",
   "version": "3.10.6"
  },
  "orig_nbformat": 4,
  "vscode": {
   "interpreter": {
    "hash": "77c1e6cfc56bf4636de1267fd1eb2dd0a0836fee23522b9762386e4069de002c"
   }
  }
 },
 "nbformat": 4,
 "nbformat_minor": 2
}
