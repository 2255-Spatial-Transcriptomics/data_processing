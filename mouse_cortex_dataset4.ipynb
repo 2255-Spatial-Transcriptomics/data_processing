{
 "cells": [
  {
   "cell_type": "code",
   "execution_count": 4,
   "metadata": {},
   "outputs": [
    {
     "data": {
      "text/plain": [
       "<bound method NDFrame.head of      Field of View  Cell ID        X        Y          Region\n",
       "0                0        1  1305.70   414.98          Cortex\n",
       "1                0        2   669.51   457.53          Cortex\n",
       "2                0        3  1185.90   507.11          Cortex\n",
       "3                0        4   710.24   533.06          Cortex\n",
       "4                0        5   763.87   569.15          Cortex\n",
       "..             ...      ...      ...      ...             ...\n",
       "908              6      105  1505.30  1409.30  Choroid Plexus\n",
       "909              6      106  1344.30  1429.50  Choroid Plexus\n",
       "910              6      107  1409.30  1454.20  Choroid Plexus\n",
       "911              6      108   389.93  1667.50  Choroid Plexus\n",
       "912              6      109   447.85  1672.30  Choroid Plexus\n",
       "\n",
       "[913 rows x 5 columns]>"
      ]
     },
     "execution_count": 4,
     "metadata": {},
     "output_type": "execute_result"
    }
   ],
   "source": [
    "import csv\n",
    "import pandas as pd\n",
    "\n",
    "cortex_svz_centroids = pd.read_csv(\"datasets/mouse_cortext_dataset4/spatial/sourcedata/cortex_svz_cellcentroids.csv\")\n",
    "\n",
    "cortex_svz_centroids.head"
   ]
  },
  {
   "cell_type": "code",
   "execution_count": 11,
   "metadata": {},
   "outputs": [
    {
     "data": {
      "text/plain": [
       "<bound method NDFrame.head of      1700022a21rik  1700025g04rik  4933401b06rik  5830417i10rik  \\\n",
       "0                3              1              2              0   \n",
       "1                1              0              0              0   \n",
       "2                0              0              1              1   \n",
       "3                0              0              0              0   \n",
       "4                0              0              0              1   \n",
       "..             ...            ...            ...            ...   \n",
       "908              0              0              0              2   \n",
       "909              0              0              0              0   \n",
       "910              0              0              0              0   \n",
       "911              0              0              0              0   \n",
       "912              0              0              0              0   \n",
       "\n",
       "     9330102e08rik  9430018g01rik  9430083a17rik  Aanat  Aasdh  Aatf  ...  \\\n",
       "0                1              1              1      0      2     0  ...   \n",
       "1                0              0              0      0      0     0  ...   \n",
       "2                0              0              0      0      0     0  ...   \n",
       "3                0              0              0      0      0     1  ...   \n",
       "4                0              1              1      0      3     0  ...   \n",
       "..             ...            ...            ...    ...    ...   ...  ...   \n",
       "908              0              0              0      0      0     2  ...   \n",
       "909              0              0              0      0      0     0  ...   \n",
       "910              0              0              0      0      0     0  ...   \n",
       "911              0              0              0      0      2     0  ...   \n",
       "912              0              0              0      0      0     0  ...   \n",
       "\n",
       "     Tyrp1  Ubqlnl  Ptgdr  P2ry4  Prdm6  Pde6b  Zp1  Dlx4  Opn1sw  Pramef12  \n",
       "0        0       0      1      0      0      0    0     0       0         1  \n",
       "1        1       1      0      1      1      0    0     0       0         0  \n",
       "2        2       2      1      1      0      0    1     0       1         0  \n",
       "3        0       0      0      0      0      0    0     0       0         0  \n",
       "4        1       0      0      1      0      0    0     1       0         0  \n",
       "..     ...     ...    ...    ...    ...    ...  ...   ...     ...       ...  \n",
       "908      0       0      1      0      0      0    1     0       0         0  \n",
       "909      0       0      0      0      0      0    0     0       0         0  \n",
       "910      0       0      0      0      0      0    0     0       0         0  \n",
       "911      0       0      0      0      0      0    0     0       0         1  \n",
       "912      0       0      0      0      0      0    0     0       0         0  \n",
       "\n",
       "[913 rows x 10000 columns]>"
      ]
     },
     "execution_count": 11,
     "metadata": {},
     "output_type": "execute_result"
    }
   ],
   "source": [
    "cortex_svz_counts = pd.read_csv(\"datasets/mouse_cortext_dataset4/spatial/sourcedata/cortex_svz_counts.csv\")\n",
    "cortex_svz_counts.head"
   ]
  },
  {
   "cell_type": "code",
   "execution_count": null,
   "metadata": {},
   "outputs": [],
   "source": []
  }
 ],
 "metadata": {
  "kernelspec": {
   "display_name": "Python 3.10.6 ('spatial-transcriptomics')",
   "language": "python",
   "name": "python3"
  },
  "language_info": {
   "codemirror_mode": {
    "name": "ipython",
    "version": 3
   },
   "file_extension": ".py",
   "mimetype": "text/x-python",
   "name": "python",
   "nbconvert_exporter": "python",
   "pygments_lexer": "ipython3",
   "version": "3.10.6"
  },
  "orig_nbformat": 4,
  "vscode": {
   "interpreter": {
    "hash": "77c1e6cfc56bf4636de1267fd1eb2dd0a0836fee23522b9762386e4069de002c"
   }
  }
 },
 "nbformat": 4,
 "nbformat_minor": 2
}
